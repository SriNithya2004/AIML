{
  "cells": [
    {
      "cell_type": "code",
      "execution_count": null,
      "id": "f82476c3",
      "metadata": {
        "id": "f82476c3"
      },
      "outputs": [],
      "source": [
        "import torch\n",
        "from torch.utils.data import TensorDataset, DataLoader\n",
        "import torch.nn as nn\n",
        "import torch.optim as optim\n",
        "import torchvision\n",
        "import torchvision.transforms as transforms\n",
        "import pandas as pd\n",
        "import os"
      ]
    },
    {
      "cell_type": "code",
      "source": [
        "torch.backends.cudnn.benchmark = False\n",
        "torch.backends.cudnn.deterministic = True\n",
        "torch.use_deterministic_algorithms(True, warn_only=True)\n",
        "\n",
        "os.environ[\"CUBLAS_WORKSPACE_CONFIG\"] = \":4096:8\"\n",
        "\n",
        "torch.manual_seed(40)\n",
        "torch.cuda.manual_seed_all(40)\n"
      ],
      "metadata": {
        "id": "7geIp0evzEfr"
      },
      "id": "7geIp0evzEfr",
      "execution_count": null,
      "outputs": []
    },
    {
      "cell_type": "code",
      "source": [
        "!wget https://www.dropbox.com/scl/fi/w22pt8h447b9ptgql67vo/dataset.tar.gz?rlkey=vajo7g4w8nl1q92ikv8qu75qu&dl=0"
      ],
      "metadata": {
        "id": "QF36u8ne2gJi"
      },
      "id": "QF36u8ne2gJi",
      "execution_count": null,
      "outputs": []
    },
    {
      "cell_type": "code",
      "source": [
        "!mv dataset.tar.gz?rlkey=vajo7g4w8nl1q92ikv8qu75qu dataset.tar.gz"
      ],
      "metadata": {
        "id": "_hrHYsVCdbMm"
      },
      "id": "_hrHYsVCdbMm",
      "execution_count": null,
      "outputs": []
    },
    {
      "cell_type": "code",
      "execution_count": null,
      "id": "32851d0b",
      "metadata": {
        "id": "32851d0b"
      },
      "outputs": [],
      "source": [
        "!tar -xzvf dataset.tar.gz"
      ]
    },
    {
      "cell_type": "code",
      "source": [
        "if torch.cuda.is_available():\n",
        "    device = 'cuda'\n",
        "else:\n",
        "    device = 'cpu'\n"
      ],
      "metadata": {
        "id": "8TyKKrtvq7An"
      },
      "id": "8TyKKrtvq7An",
      "execution_count": null,
      "outputs": []
    },
    {
      "cell_type": "code",
      "execution_count": null,
      "id": "8e610d1d",
      "metadata": {
        "id": "8e610d1d"
      },
      "outputs": [],
      "source": [
        "def read_image_tensor(image_folder,transform,num_images=None):\n",
        "    if num_images==None:\n",
        "        num_images = len(os.listdir(image_folder))\n",
        "    images = []\n",
        "    for i in range(num_images):\n",
        "        img = torchvision.io.read_image(os.path.join(image_folder,f\"{i}.jpg\")).float()\n",
        "        images.append(transform(img))\n",
        "    return torch.stack(images).to(device)\n",
        "\n"
      ]
    },
    {
      "cell_type": "code",
      "execution_count": null,
      "id": "451ab492",
      "metadata": {
        "id": "451ab492"
      },
      "outputs": [],
      "source": [
        "def get_labels(csv_file):\n",
        "    # TODO: Return a torch tensor after reading the labels in csv_file. Convert to float().\n",
        "    pass"
      ]
    },
    {
      "cell_type": "code",
      "execution_count": null,
      "id": "673f056d",
      "metadata": {
        "id": "673f056d"
      },
      "outputs": [],
      "source": [
        "img_size = (256,256)\n",
        "base_transform = transforms.Compose(\n",
        "    [transforms.Resize(img_size)\n",
        "    ]\n",
        ")\n",
        "train_X = read_image_tensor(\"dataset/train/\",base_transform)/256\n",
        "train_Y = get_labels(\"dataset/train.csv\")\n",
        "test_X = read_image_tensor(\"dataset/test/\",base_transform)/256\n",
        "test_Y = get_labels(\"dataset/test.csv\")"
      ]
    },
    {
      "cell_type": "code",
      "execution_count": null,
      "id": "6989c64f",
      "metadata": {
        "id": "6989c64f"
      },
      "outputs": [],
      "source": [
        "def train_model(model, train_loader, test_loader, num_epochs, loss_function, optimizer):\n",
        "    # TODO: Make sure you read through these lines of code and understand all key lines.\n",
        "    # For example: Why do you need to zero out the gradients using optimizer.zero_grad() in the for loop?\n",
        "    for epoch in range(num_epochs):\n",
        "        model.train()\n",
        "        total_loss = 0.0\n",
        "        for i, data in enumerate(train_loader):\n",
        "            inputs,labels = data\n",
        "            optimizer.zero_grad()\n",
        "            output = model(inputs)\n",
        "            loss = loss_function(output,labels.view(output.shape))\n",
        "            loss.backward()\n",
        "            optimizer.step()\n",
        "            total_loss += loss.item()\n",
        "        average_loss = total_loss/len(train_loader)\n",
        "\n",
        "        print(f\"Epoch {epoch+1}/{num_epochs}, Loss: {average_loss:.4f}\")\n",
        "        model.eval()\n",
        "        correct = 0\n",
        "        total = 0\n",
        "        with torch.no_grad():\n",
        "            for data in test_loader:\n",
        "                inputs, labels = data\n",
        "                outputs = model(inputs)\n",
        "                pred = (outputs > 0.5)*1\n",
        "                correct += (pred==labels.view(pred.shape)).sum()\n",
        "                total += labels.size(0)\n",
        "            accur = 100*correct/total\n",
        "            print(f\"Test Accuracy after Epoch {epoch+1}: {accur:.2f}%\")\n",
        "\n",
        "    print(\"Training done.\")\n"
      ]
    },
    {
      "cell_type": "code",
      "execution_count": null,
      "id": "595b0797",
      "metadata": {
        "id": "595b0797"
      },
      "outputs": [],
      "source": [
        "# PART 1: TODO\n",
        "# Write down the model description\n",
        "# model = ...\n",
        "# Relevant torch.nn classes you will need include nn.Sequential, nn.Conv2d, nn.MaxPool2d and so on.\n",
        "model = #TODO"
      ]
    },
    {
      "cell_type": "code",
      "source": [
        "model.to(device)"
      ],
      "metadata": {
        "id": "nxyq0aeXrdS_"
      },
      "id": "nxyq0aeXrdS_",
      "execution_count": null,
      "outputs": []
    },
    {
      "cell_type": "code",
      "execution_count": null,
      "id": "277e16b9",
      "metadata": {
        "id": "277e16b9"
      },
      "outputs": [],
      "source": [
        "train_dataset = TensorDataset(train_X, train_Y)\n",
        "test_dataset = TensorDataset(test_X, test_Y)\n",
        "batch_size = 64\n",
        "train_loader = DataLoader(train_dataset, batch_size=batch_size, shuffle=True)\n",
        "test_loader = DataLoader(test_dataset, batch_size=batch_size, shuffle=False)\n",
        "num_epochs = 30\n",
        "loss_func = nn.BCELoss()\n",
        "optimizer = optim.Adam(model.parameters())"
      ]
    },
    {
      "cell_type": "code",
      "execution_count": null,
      "id": "55eb4495",
      "metadata": {
        "id": "55eb4495"
      },
      "outputs": [],
      "source": [
        "train_model(model,train_loader,test_loader,num_epochs,loss_func,optimizer)"
      ]
    },
    {
      "cell_type": "code",
      "source": [
        "def train_model_with_augment(model, augment_layer, train_loader, test_loader, num_epochs, loss_function, optimizer):\n",
        "\n",
        "\n",
        "    for epoch in range(num_epochs):\n",
        "        model.train()\n",
        "        total_loss = 0.0\n",
        "        for i, data in enumerate(train_loader):\n",
        "            inputs,labels = data\n",
        "            optimizer.zero_grad()\n",
        "            output = model(augment_layer(inputs))\n",
        "            loss = loss_function(output,labels.view(output.shape))\n",
        "            loss.backward()\n",
        "            optimizer.step()\n",
        "            total_loss += loss.item()\n",
        "        average_loss = total_loss/len(train_loader)\n",
        "\n",
        "        print(f\"Epoch {epoch+1}/{num_epochs}, Loss: {average_loss:.4f}\")\n",
        "        model.eval()\n",
        "        correct = 0\n",
        "        total = 0\n",
        "        with torch.no_grad():\n",
        "            for data in test_loader:\n",
        "                inputs, labels = data\n",
        "                outputs = model(inputs)\n",
        "                pred = (outputs > 0.5)*1\n",
        "                correct += (pred==labels.view(pred.shape)).sum()\n",
        "                total += labels.size(0)\n",
        "            accur = 100*correct/total\n",
        "            print(f\"Test Accuracy after Epoch {epoch+1}: {accur:.2f}%\")\n",
        "\n",
        "    print(\"Training done.\")"
      ],
      "metadata": {
        "id": "lRKftAYqycq0"
      },
      "id": "lRKftAYqycq0",
      "execution_count": null,
      "outputs": []
    },
    {
      "cell_type": "code",
      "source": [
        "optimizer = optim.Adam(model.parameters())\n",
        "loss_func = nn.BCELoss()\n",
        "# PART 2: TODO\n",
        "# Chain together transforms to create a set of allowed transformations within augment\n",
        "# Available transformations are listed here: https://pytorch.org/vision/0.9/transforms.html\n",
        "# Rotation, ColorJitter are popular transforms\n",
        "from torchvision.transforms import v2\n",
        "augment = # TODO: Define\n",
        "train_model_with_augment(model, augment, train_loader, test_loader, num_epochs, loss_func, optimizer)"
      ],
      "metadata": {
        "id": "4Rnz7ExoymoG"
      },
      "id": "4Rnz7ExoymoG",
      "execution_count": null,
      "outputs": []
    }
  ],
  "metadata": {
    "kernelspec": {
      "display_name": "Python 3",
      "name": "python3"
    },
    "language_info": {
      "codemirror_mode": {
        "name": "ipython",
        "version": 3
      },
      "file_extension": ".py",
      "mimetype": "text/x-python",
      "name": "python",
      "nbconvert_exporter": "python",
      "pygments_lexer": "ipython3",
      "version": "3.8.8"
    },
    "colab": {
      "provenance": [],
      "gpuType": "T4"
    },
    "accelerator": "GPU"
  },
  "nbformat": 4,
  "nbformat_minor": 5
}