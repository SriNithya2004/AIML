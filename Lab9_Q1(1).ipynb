{
  "nbformat": 4,
  "nbformat_minor": 0,
  "metadata": {
    "colab": {
      "provenance": []
    },
    "kernelspec": {
      "name": "python3",
      "display_name": "Python 3"
    },
    "language_info": {
      "name": "python"
    }
  },
  "cells": [
    {
      "cell_type": "code",
      "execution_count": null,
      "metadata": {
        "colab": {
          "base_uri": "https://localhost:8080/"
        },
        "id": "_gV9zELeKgQh",
        "outputId": "4add81fc-dd22-49d7-f4a4-d90af33f3959"
      },
      "outputs": [
        {
          "output_type": "stream",
          "name": "stdout",
          "text": [
            "--2023-10-15 13:57:14--  https://www.cse.iitb.ac.in/~pjyothi/cs335/embeddings.json\n",
            "Resolving www.cse.iitb.ac.in (www.cse.iitb.ac.in)... 103.21.127.134\n",
            "Connecting to www.cse.iitb.ac.in (www.cse.iitb.ac.in)|103.21.127.134|:443... connected.\n",
            "HTTP request sent, awaiting response... 200 OK\n",
            "Length: 25297862 (24M) [application/json]\n",
            "Saving to: ‘embeddings.json’\n",
            "\n",
            "embeddings.json     100%[===================>]  24.12M  10.5MB/s    in 2.3s    \n",
            "\n",
            "2023-10-15 13:57:18 (10.5 MB/s) - ‘embeddings.json’ saved [25297862/25297862]\n",
            "\n"
          ]
        }
      ],
      "source": [
        "!wget https://www.cse.iitb.ac.in/~pjyothi/cs335/embeddings.json"
      ]
    },
    {
      "cell_type": "code",
      "source": [
        "import json\n",
        "import numpy as np"
      ],
      "metadata": {
        "id": "WE8JhzaAKkg-"
      },
      "execution_count": null,
      "outputs": []
    },
    {
      "cell_type": "code",
      "source": [
        "word_vec = json.load(open(\"embeddings.json\",'r'))\n",
        "for word in word_vec.keys():\n",
        "  word_vec[word] = np.array(word_vec[word])"
      ],
      "metadata": {
        "id": "Ti48ujkJKo9T"
      },
      "execution_count": null,
      "outputs": []
    },
    {
      "cell_type": "code",
      "source": [
        "wordlist = list(word_vec.keys())\n",
        "wordlist.sort()"
      ],
      "metadata": {
        "id": "toUO13apKucu"
      },
      "execution_count": null,
      "outputs": []
    },
    {
      "cell_type": "code",
      "source": [
        "len(wordlist)"
      ],
      "metadata": {
        "id": "rB2zHVYYLy7w"
      },
      "execution_count": null,
      "outputs": []
    },
    {
      "cell_type": "code",
      "source": [
        "def find_similar_words(target_word, num_words=10):\n",
        "  # TODO: target_word will contain a string say 'Play'.\n",
        "  # Implement this function so that it returns a list of the top-10 closest words.\n",
        "  # See lab9.pdf for things to ensure in the output list.\n",
        "  pass"
      ],
      "metadata": {
        "id": "oVDroY6rL0DE"
      },
      "execution_count": null,
      "outputs": []
    },
    {
      "cell_type": "code",
      "source": [
        "# find_similar_words('Store') should return\n",
        "# ['Shop',\n",
        "# 'stores',\n",
        "# 'App',\n",
        "# 'Retail',\n",
        "# 'Factory',\n",
        "# 'Manager',\n",
        "# 'Online',\n",
        "# 'Supply',\n",
        "# 'Record',\n",
        "# 'Storage']"
      ],
      "metadata": {
        "id": "ofsuQGViOARh"
      },
      "execution_count": null,
      "outputs": []
    }
  ]
}