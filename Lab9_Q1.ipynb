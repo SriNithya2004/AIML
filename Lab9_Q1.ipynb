{
  "nbformat": 4,
  "nbformat_minor": 0,
  "metadata": {
    "colab": {
      "provenance": [],
      "toc_visible": true
    },
    "kernelspec": {
      "name": "python3",
      "display_name": "Python 3"
    },
    "language_info": {
      "name": "python"
    }
  },
  "cells": [
    {
      "cell_type": "code",
      "execution_count": 2,
      "metadata": {
        "colab": {
          "base_uri": "https://localhost:8080/"
        },
        "id": "_gV9zELeKgQh",
        "outputId": "bd09202e-49ef-45a3-d3b8-3972939d00aa"
      },
      "outputs": [
        {
          "output_type": "stream",
          "name": "stdout",
          "text": [
            "--2023-10-16 17:07:22--  https://www.cse.iitb.ac.in/~pjyothi/cs335/embeddings.json\n",
            "Resolving www.cse.iitb.ac.in (www.cse.iitb.ac.in)... 103.21.127.134\n",
            "Connecting to www.cse.iitb.ac.in (www.cse.iitb.ac.in)|103.21.127.134|:443... connected.\n",
            "HTTP request sent, awaiting response... 200 OK\n",
            "Length: 25297862 (24M) [application/json]\n",
            "Saving to: ‘embeddings.json.1’\n",
            "\n",
            "embeddings.json.1   100%[===================>]  24.12M  5.78MB/s    in 4.2s    \n",
            "\n",
            "2023-10-16 17:07:27 (5.78 MB/s) - ‘embeddings.json.1’ saved [25297862/25297862]\n",
            "\n"
          ]
        }
      ],
      "source": [
        "!wget https://www.cse.iitb.ac.in/~pjyothi/cs335/embeddings.json"
      ]
    },
    {
      "cell_type": "code",
      "source": [
        "import json\n",
        "import numpy as np"
      ],
      "metadata": {
        "id": "WE8JhzaAKkg-"
      },
      "execution_count": 3,
      "outputs": []
    },
    {
      "cell_type": "code",
      "source": [
        "word_vec = json.load(open(\"embeddings.json\",'r'))\n",
        "for word in word_vec.keys():\n",
        "  word_vec[word] = np.array(word_vec[word])"
      ],
      "metadata": {
        "id": "Ti48ujkJKo9T"
      },
      "execution_count": 4,
      "outputs": []
    },
    {
      "cell_type": "code",
      "source": [
        "wordlist = list(word_vec.keys())\n",
        "wordlist.sort()"
      ],
      "metadata": {
        "id": "toUO13apKucu"
      },
      "execution_count": 5,
      "outputs": []
    },
    {
      "cell_type": "code",
      "source": [
        "\n",
        "len(wordlist)\n",
        "def cosine_sim(v1,v2):\n",
        "  dot_product=np.dot(v1,v2)\n",
        "  v1_mag=np.linalg.norm(v1)\n",
        "  v2_mag=np.linalg.norm(v2)\n",
        "  similarity=dot_product/(v1_mag*v2_mag)\n",
        "  return similarity\n"
      ],
      "metadata": {
        "id": "rB2zHVYYLy7w"
      },
      "execution_count": 6,
      "outputs": []
    },
    {
      "cell_type": "code",
      "source": [
        "def find_similar_words(target_word, num_words=10):\n",
        "  # TODO: target_word will contain a string say 'Play'.\n",
        "  # Implement this function so that it returns a list of the top-10 closest words.\n",
        "  # See lab9.pdf for things to ensure in the output list.\n",
        "  present=False\n",
        "  result=[]\n",
        "  target_v=word_vec[target_word]\n",
        "  similarities={}\n",
        "\n",
        "  for word in word_vec.keys():\n",
        "    if(np.char.lower(target_word)==np.char.lower(word)):\n",
        "      present=True\n",
        "      break\n",
        "\n",
        "  if (present):\n",
        "      for word in word_vec.keys():\n",
        "        if(np.char.lower(word)!=np.char.lower(target_word)):\n",
        "          similarities[word]=(cosine_sim(target_v,word_vec[word]))\n",
        "      # sort(similarities)\n",
        "      # result=similarities[:10]\n",
        "      sorted_similarities = {k: v for k, v in sorted(similarities.items(), key=lambda item: item[1], reverse=True)}\n",
        "      result=list(sorted_similarities)[:num_words]\n",
        "      return result\n",
        "  else:\n",
        "    return result\n",
        "\n"
      ],
      "metadata": {
        "id": "oVDroY6rL0DE"
      },
      "execution_count": 7,
      "outputs": []
    },
    {
      "cell_type": "code",
      "source": [
        "find_similar_words('Store')\n",
        "#  should return\n",
        "# ['Shop',\n",
        "# 'stores',\n",
        "# 'App',\n",
        "# 'Retail',\n",
        "# 'Factory',\n",
        "# 'Manager',\n",
        "# 'Online',\n",
        "# 'Supply',\n",
        "# 'Record',\n",
        "# 'Storage']"
      ],
      "metadata": {
        "id": "ofsuQGViOARh",
        "colab": {
          "base_uri": "https://localhost:8080/"
        },
        "outputId": "5f6cab8d-55af-486a-967f-5bb78b39e3b7"
      },
      "execution_count": 8,
      "outputs": [
        {
          "output_type": "execute_result",
          "data": {
            "text/plain": [
              "['Shop',\n",
              " 'stores',\n",
              " 'App',\n",
              " 'Retail',\n",
              " 'Factory',\n",
              " 'Manager',\n",
              " 'Online',\n",
              " 'Supply',\n",
              " 'Record',\n",
              " 'Storage']"
            ]
          },
          "metadata": {},
          "execution_count": 8
        }
      ]
    }
  ]
}